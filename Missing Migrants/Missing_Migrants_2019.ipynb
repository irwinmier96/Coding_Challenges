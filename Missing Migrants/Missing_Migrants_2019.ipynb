{
 "cells": [
  {
   "cell_type": "markdown",
   "metadata": {},
   "source": [
    "# Where Migrants Are Going Missing in 2019"
   ]
  },
  {
   "cell_type": "markdown",
   "metadata": {},
   "source": [
    "Using a dataset on Kaggle, I look into how many migrants end up missing or dead while en route to their destinations. This project will focus mainly on the migrant situation for 2019, and will evaluate the demographic breakdown as well as the reported causes and the regions these events have been reported. The dataset also looks into the number of survivors, as well as the number of children who were migrants."
   ]
  },
  {
   "cell_type": "code",
   "execution_count": 2,
   "metadata": {},
   "outputs": [],
   "source": [
    "#Import Modules\n",
    "import pandas as pd\n",
    "import numpy as np\n",
    "import matplotlib.pyplot as plt"
   ]
  },
  {
   "cell_type": "code",
   "execution_count": 3,
   "metadata": {},
   "outputs": [],
   "source": [
    "migrants = pd.read_csv(\"MissingMigrants-Global-2019-03-29T18-36-07.csv\")"
   ]
  },
  {
   "cell_type": "code",
   "execution_count": 4,
   "metadata": {},
   "outputs": [
    {
     "data": {
      "text/html": [
       "<div>\n",
       "<style scoped>\n",
       "    .dataframe tbody tr th:only-of-type {\n",
       "        vertical-align: middle;\n",
       "    }\n",
       "\n",
       "    .dataframe tbody tr th {\n",
       "        vertical-align: top;\n",
       "    }\n",
       "\n",
       "    .dataframe thead th {\n",
       "        text-align: right;\n",
       "    }\n",
       "</style>\n",
       "<table border=\"1\" class=\"dataframe\">\n",
       "  <thead>\n",
       "    <tr style=\"text-align: right;\">\n",
       "      <th></th>\n",
       "      <th>Region of Incident</th>\n",
       "      <th>Reported Year</th>\n",
       "      <th>Reported Month</th>\n",
       "      <th>Number Dead</th>\n",
       "      <th>Minimum Estimated Number of Missing</th>\n",
       "      <th>Total Dead and Missing</th>\n",
       "      <th>Number of Survivors</th>\n",
       "      <th>Number of Females</th>\n",
       "      <th>Number of Males</th>\n",
       "      <th>Number of Children</th>\n",
       "      <th>Cause of Death</th>\n",
       "      <th>Migration Route</th>\n",
       "    </tr>\n",
       "  </thead>\n",
       "  <tbody>\n",
       "    <tr>\n",
       "      <th>0</th>\n",
       "      <td>Mediterranean</td>\n",
       "      <td>2019</td>\n",
       "      <td>Mar</td>\n",
       "      <td>NaN</td>\n",
       "      <td>2.0</td>\n",
       "      <td>2</td>\n",
       "      <td>36.0</td>\n",
       "      <td>NaN</td>\n",
       "      <td>2.0</td>\n",
       "      <td>NaN</td>\n",
       "      <td>Presumed drowning</td>\n",
       "      <td>Eastern Mediterranean</td>\n",
       "    </tr>\n",
       "    <tr>\n",
       "      <th>1</th>\n",
       "      <td>Mediterranean</td>\n",
       "      <td>2019</td>\n",
       "      <td>Mar</td>\n",
       "      <td>4.0</td>\n",
       "      <td>NaN</td>\n",
       "      <td>4</td>\n",
       "      <td>11.0</td>\n",
       "      <td>3.0</td>\n",
       "      <td>NaN</td>\n",
       "      <td>1.0</td>\n",
       "      <td>Presumed drowning</td>\n",
       "      <td>Eastern Mediterranean</td>\n",
       "    </tr>\n",
       "    <tr>\n",
       "      <th>2</th>\n",
       "      <td>Mediterranean</td>\n",
       "      <td>2019</td>\n",
       "      <td>Mar</td>\n",
       "      <td>1.0</td>\n",
       "      <td>NaN</td>\n",
       "      <td>1</td>\n",
       "      <td>NaN</td>\n",
       "      <td>NaN</td>\n",
       "      <td>NaN</td>\n",
       "      <td>NaN</td>\n",
       "      <td>Presumed drowning</td>\n",
       "      <td>Western Mediterranean</td>\n",
       "    </tr>\n",
       "    <tr>\n",
       "      <th>3</th>\n",
       "      <td>Mediterranean</td>\n",
       "      <td>2019</td>\n",
       "      <td>Mar</td>\n",
       "      <td>1.0</td>\n",
       "      <td>NaN</td>\n",
       "      <td>1</td>\n",
       "      <td>NaN</td>\n",
       "      <td>NaN</td>\n",
       "      <td>NaN</td>\n",
       "      <td>NaN</td>\n",
       "      <td>Presumed drowning</td>\n",
       "      <td>Western Mediterranean</td>\n",
       "    </tr>\n",
       "    <tr>\n",
       "      <th>4</th>\n",
       "      <td>Central America</td>\n",
       "      <td>2019</td>\n",
       "      <td>Mar</td>\n",
       "      <td>1.0</td>\n",
       "      <td>NaN</td>\n",
       "      <td>1</td>\n",
       "      <td>NaN</td>\n",
       "      <td>NaN</td>\n",
       "      <td>1.0</td>\n",
       "      <td>NaN</td>\n",
       "      <td>Fall from train</td>\n",
       "      <td>NaN</td>\n",
       "    </tr>\n",
       "  </tbody>\n",
       "</table>\n",
       "</div>"
      ],
      "text/plain": [
       "  Region of Incident  Reported Year Reported Month  Number Dead  \\\n",
       "0      Mediterranean           2019            Mar          NaN   \n",
       "1      Mediterranean           2019            Mar          4.0   \n",
       "2      Mediterranean           2019            Mar          1.0   \n",
       "3      Mediterranean           2019            Mar          1.0   \n",
       "4    Central America           2019            Mar          1.0   \n",
       "\n",
       "   Minimum Estimated Number of Missing  Total Dead and Missing  \\\n",
       "0                                  2.0                       2   \n",
       "1                                  NaN                       4   \n",
       "2                                  NaN                       1   \n",
       "3                                  NaN                       1   \n",
       "4                                  NaN                       1   \n",
       "\n",
       "   Number of Survivors  Number of Females  Number of Males  \\\n",
       "0                 36.0                NaN              2.0   \n",
       "1                 11.0                3.0              NaN   \n",
       "2                  NaN                NaN              NaN   \n",
       "3                  NaN                NaN              NaN   \n",
       "4                  NaN                NaN              1.0   \n",
       "\n",
       "   Number of Children     Cause of Death        Migration Route  \n",
       "0                 NaN  Presumed drowning  Eastern Mediterranean  \n",
       "1                 1.0  Presumed drowning  Eastern Mediterranean  \n",
       "2                 NaN  Presumed drowning  Western Mediterranean  \n",
       "3                 NaN  Presumed drowning  Western Mediterranean  \n",
       "4                 NaN    Fall from train                    NaN  "
      ]
     },
     "execution_count": 4,
     "metadata": {},
     "output_type": "execute_result"
    }
   ],
   "source": [
    "#Filter the database to reports in the year 2019\n",
    "migrants = pd.DataFrame(migrants, columns = ['Region of Incident', 'Reported Year', \n",
    "                                             'Reported Month','Number Dead','Minimum Estimated Number of Missing',\n",
    "                                             'Total Dead and Missing', 'Number of Survivors', 'Number of Females',\n",
    "                                             'Number of Males', 'Number of Children', 'Cause of Death', 'Migration Route'])\n",
    "#Only getting information for the year 2019\n",
    "## Reports go up to the month of March\n",
    "migrants = migrants[migrants['Reported Year'] == 2019]\n",
    "\n",
    "migrants.head()"
   ]
  },
  {
   "cell_type": "code",
   "execution_count": 5,
   "metadata": {},
   "outputs": [
    {
     "data": {
      "text/html": [
       "<div>\n",
       "<style scoped>\n",
       "    .dataframe tbody tr th:only-of-type {\n",
       "        vertical-align: middle;\n",
       "    }\n",
       "\n",
       "    .dataframe tbody tr th {\n",
       "        vertical-align: top;\n",
       "    }\n",
       "\n",
       "    .dataframe thead th {\n",
       "        text-align: right;\n",
       "    }\n",
       "</style>\n",
       "<table border=\"1\" class=\"dataframe\">\n",
       "  <thead>\n",
       "    <tr style=\"text-align: right;\">\n",
       "      <th></th>\n",
       "      <th>0</th>\n",
       "    </tr>\n",
       "  </thead>\n",
       "  <tbody>\n",
       "    <tr>\n",
       "      <th>Number Dead</th>\n",
       "      <td>311.0</td>\n",
       "    </tr>\n",
       "    <tr>\n",
       "      <th>Minimum Estimated Number of Missing</th>\n",
       "      <td>287.0</td>\n",
       "    </tr>\n",
       "    <tr>\n",
       "      <th>Total Dead and Missing</th>\n",
       "      <td>598.0</td>\n",
       "    </tr>\n",
       "    <tr>\n",
       "      <th>Number of Survivors</th>\n",
       "      <td>976.0</td>\n",
       "    </tr>\n",
       "  </tbody>\n",
       "</table>\n",
       "</div>"
      ],
      "text/plain": [
       "                                         0\n",
       "Number Dead                          311.0\n",
       "Minimum Estimated Number of Missing  287.0\n",
       "Total Dead and Missing               598.0\n",
       "Number of Survivors                  976.0"
      ]
     },
     "execution_count": 5,
     "metadata": {},
     "output_type": "execute_result"
    }
   ],
   "source": [
    "#Calculating the total number of dead and missing migrants\n",
    "total_dead_and_missing = pd.DataFrame(migrants, columns = ['Number Dead',\n",
    "                                                           'Minimum Estimated Number of Missing',\n",
    "                                                           'Total Dead and Missing',\n",
    "                                                           'Number of Survivors'])\n",
    "total_sum = total_dead_and_missing.sum()\n",
    "total_count = pd.DataFrame(total_sum)\n",
    "total_count"
   ]
  },
  {
   "cell_type": "markdown",
   "metadata": {},
   "source": [
    "## Total Breakdown of The Status of Migrants Worldwide in 2019."
   ]
  },
  {
   "cell_type": "markdown",
   "metadata": {},
   "source": [
    "38% of all migrants in 2019 were reported to be dead or missing, while 62% survived their journeys. Calculating the mortality rate of being a migrant would be tricky considering those who have gone missing might not be necessarily dead, as any number of things couldve happened to any of the missing migrants reported missing. While a majority of migrants survive, the journey is proven to be dangerous given the high rates of those going missing while en route."
   ]
  },
  {
   "cell_type": "code",
   "execution_count": 11,
   "metadata": {},
   "outputs": [
    {
     "data": {
      "image/png": "[encoded data removed]",
      "text/plain": [
       "<Figure size 432x288 with 1 Axes>"
      ]
     },
     "metadata": {},
     "output_type": "display_data"
    },
    {
     "data": {
      "text/plain": [
       "<Figure size 432x288 with 0 Axes>"
      ]
     },
     "metadata": {},
     "output_type": "display_data"
    }
   ],
   "source": [
    "#Pie Chart\n",
    "Number_Dead = total_dead_and_missing['Number Dead'].sum()\n",
    "Number_Missing = total_dead_and_missing['Minimum Estimated Number of Missing'].sum()\n",
    "Number_Survivors = total_dead_and_missing['Number of Survivors'].sum()\n",
    "\n",
    "Total_Reported_Migrants = [Number_Dead, Number_Missing, Number_Survivors]\n",
    "colors = ['bisque', 'mediumorchid', 'chartreuse']\n",
    "labels = ['Dead', 'Missing', 'Survived']\n",
    "plt.pie(Total_Reported_Migrants, colors=colors, labels=labels, autopct = \"%1.1f%%\", shadow = True)\n",
    "plt.title(\"Total Breakdown of the Status of Migrants in 2019\")\n",
    "\n",
    "plt.show()\n",
    "\n",
    "# Save graph\n",
    "plt.savefig(\"Visualizations/total_breakdown_of_migrants.png\", dpi=180, bbox_inches=\"tight\")"
   ]
  },
  {
   "cell_type": "code",
   "execution_count": 9,
   "metadata": {},
   "outputs": [
    {
     "data": {
      "text/html": [
       "<div>\n",
       "<style scoped>\n",
       "    .dataframe tbody tr th:only-of-type {\n",
       "        vertical-align: middle;\n",
       "    }\n",
       "\n",
       "    .dataframe tbody tr th {\n",
       "        vertical-align: top;\n",
       "    }\n",
       "\n",
       "    .dataframe thead th {\n",
       "        text-align: right;\n",
       "    }\n",
       "</style>\n",
       "<table border=\"1\" class=\"dataframe\">\n",
       "  <thead>\n",
       "    <tr style=\"text-align: right;\">\n",
       "      <th></th>\n",
       "      <th>Reported Month</th>\n",
       "      <th>Reported Year</th>\n",
       "      <th>Number Dead</th>\n",
       "      <th>Minimum Estimated Number of Missing</th>\n",
       "      <th>Total Dead and Missing</th>\n",
       "      <th>Number of Survivors</th>\n",
       "      <th>Number of Females</th>\n",
       "      <th>Number of Males</th>\n",
       "      <th>Number of Children</th>\n",
       "    </tr>\n",
       "  </thead>\n",
       "  <tbody>\n",
       "    <tr>\n",
       "      <th>0</th>\n",
       "      <td>Feb</td>\n",
       "      <td>102969</td>\n",
       "      <td>92.0</td>\n",
       "      <td>14.0</td>\n",
       "      <td>106</td>\n",
       "      <td>122.0</td>\n",
       "      <td>11.0</td>\n",
       "      <td>33.0</td>\n",
       "      <td>4.0</td>\n",
       "    </tr>\n",
       "    <tr>\n",
       "      <th>1</th>\n",
       "      <td>Jan</td>\n",
       "      <td>115083</td>\n",
       "      <td>146.0</td>\n",
       "      <td>197.0</td>\n",
       "      <td>343</td>\n",
       "      <td>651.0</td>\n",
       "      <td>17.0</td>\n",
       "      <td>35.0</td>\n",
       "      <td>15.0</td>\n",
       "    </tr>\n",
       "    <tr>\n",
       "      <th>2</th>\n",
       "      <td>Mar</td>\n",
       "      <td>70665</td>\n",
       "      <td>73.0</td>\n",
       "      <td>76.0</td>\n",
       "      <td>149</td>\n",
       "      <td>203.0</td>\n",
       "      <td>24.0</td>\n",
       "      <td>33.0</td>\n",
       "      <td>12.0</td>\n",
       "    </tr>\n",
       "  </tbody>\n",
       "</table>\n",
       "</div>"
      ],
      "text/plain": [
       "  Reported Month  Reported Year  Number Dead  \\\n",
       "0            Feb         102969         92.0   \n",
       "1            Jan         115083        146.0   \n",
       "2            Mar          70665         73.0   \n",
       "\n",
       "   Minimum Estimated Number of Missing  Total Dead and Missing  \\\n",
       "0                                 14.0                     106   \n",
       "1                                197.0                     343   \n",
       "2                                 76.0                     149   \n",
       "\n",
       "   Number of Survivors  Number of Females  Number of Males  Number of Children  \n",
       "0                122.0               11.0             33.0                 4.0  \n",
       "1                651.0               17.0             35.0                15.0  \n",
       "2                203.0               24.0             33.0                12.0  "
      ]
     },
     "execution_count": 9,
     "metadata": {},
     "output_type": "execute_result"
    }
   ],
   "source": [
    "#Breaking down the number of instances by month\n",
    "## January had the highest number of dead and missing migrants where Febuary had the least\n",
    "Monthly_report_df = migrants.groupby(\"Reported Month\").sum()\n",
    "Monthly_report_df.reset_index()"
   ]
  },
  {
   "cell_type": "markdown",
   "metadata": {},
   "source": [
    "## A Look At Migrants on a Monthly Basis"
   ]
  },
  {
   "cell_type": "markdown",
   "metadata": {},
   "source": [
    "Looking on the basis of just numbers, January had the greatest amount of migrants reported missing or dead, though it also reported the greatest amount of migrants total. While it seems that January may be the most dangerous month, it appears that January has a smaller percentage of migrants being lost en route when compared to Febuary and March, who see a larger percentage of migrants getting lost while on their way to their destination."
   ]
  },
  {
   "cell_type": "code",
   "execution_count": 12,
   "metadata": {},
   "outputs": [
    {
     "data": {
      "image/png": "[encoded data removed]",
      "text/plain": [
       "<Figure size 432x288 with 1 Axes>"
      ]
     },
     "metadata": {
      "needs_background": "light"
     },
     "output_type": "display_data"
    },
    {
     "data": {
      "text/plain": [
       "<Figure size 432x288 with 0 Axes>"
      ]
     },
     "metadata": {},
     "output_type": "display_data"
    }
   ],
   "source": [
    "Months = np.arange(len(Monthly_report_df))\n",
    "total_lost = Monthly_report_df[\"Total Dead and Missing\"]\n",
    "total_migrants = Monthly_report_df[\"Total Dead and Missing\"] + Monthly_report_df[\"Number of Survivors\"]\n",
    "\n",
    "#Creating the bar chart\n",
    "width = 0.35\n",
    "fig = plt.figure()\n",
    "ax = fig.add_subplot(111)\n",
    "\n",
    "lost_migrants = ax.bar(Months, total_lost, width, color = \"royalblue\")\n",
    "total_number = ax.bar(Months + width, total_migrants, width, color = \"lightseagreen\")\n",
    "\n",
    "ax.set_ylabel('Reports')\n",
    "ax.set_title('Migrants By Month')\n",
    "ax.set_xticks(Months + width / 2)\n",
    "ax.set_xticklabels( ('Feb', 'Jan', 'Mar') )\n",
    "\n",
    "ax.legend( (lost_migrants[0], total_number[0]), ('Migrants Lost', 'All Migrants') )\n",
    "\n",
    "plt.show()\n",
    "\n",
    "# Save graph\n",
    "plt.savefig(\"Visualizations/migrants_by_month.png\", dpi=180, bbox_inches=\"tight\")"
   ]
  },
  {
   "cell_type": "markdown",
   "metadata": {},
   "source": [
    "## Regions Where Reports of Missing Migrants are Most Frequent"
   ]
  },
  {
   "cell_type": "markdown",
   "metadata": {},
   "source": [
    "Hotspots of migrant activity as of 2019 include Central America, the Mediterranean, and the US-Mexico border. For many of these migrants, their goal is to ultimately reach destinations such as the United States or Western Europe. Because these areas report many migrants going through these regions, they experience a relatively high rate of migrants going missing or ending up dead before they reach the end of their journey."
   ]
  },
  {
   "cell_type": "code",
   "execution_count": 13,
   "metadata": {},
   "outputs": [
    {
     "data": {
      "text/html": [
       "<div>\n",
       "<style scoped>\n",
       "    .dataframe tbody tr th:only-of-type {\n",
       "        vertical-align: middle;\n",
       "    }\n",
       "\n",
       "    .dataframe tbody tr th {\n",
       "        vertical-align: top;\n",
       "    }\n",
       "\n",
       "    .dataframe thead th {\n",
       "        text-align: right;\n",
       "    }\n",
       "</style>\n",
       "<table border=\"1\" class=\"dataframe\">\n",
       "  <thead>\n",
       "    <tr style=\"text-align: right;\">\n",
       "      <th></th>\n",
       "      <th>Reported Year</th>\n",
       "      <th>Reported Month</th>\n",
       "      <th>Number Dead</th>\n",
       "      <th>Minimum Estimated Number of Missing</th>\n",
       "      <th>Total Dead and Missing</th>\n",
       "      <th>Number of Survivors</th>\n",
       "      <th>Number of Females</th>\n",
       "      <th>Number of Males</th>\n",
       "      <th>Number of Children</th>\n",
       "      <th>Cause of Death</th>\n",
       "      <th>Migration Route</th>\n",
       "    </tr>\n",
       "    <tr>\n",
       "      <th>Region of Incident</th>\n",
       "      <th></th>\n",
       "      <th></th>\n",
       "      <th></th>\n",
       "      <th></th>\n",
       "      <th></th>\n",
       "      <th></th>\n",
       "      <th></th>\n",
       "      <th></th>\n",
       "      <th></th>\n",
       "      <th></th>\n",
       "      <th></th>\n",
       "    </tr>\n",
       "  </thead>\n",
       "  <tbody>\n",
       "    <tr>\n",
       "      <th>Caribbean</th>\n",
       "      <td>2</td>\n",
       "      <td>2</td>\n",
       "      <td>2</td>\n",
       "      <td>0</td>\n",
       "      <td>2</td>\n",
       "      <td>2</td>\n",
       "      <td>0</td>\n",
       "      <td>1</td>\n",
       "      <td>0</td>\n",
       "      <td>2</td>\n",
       "      <td>0</td>\n",
       "    </tr>\n",
       "    <tr>\n",
       "      <th>Central America</th>\n",
       "      <td>19</td>\n",
       "      <td>19</td>\n",
       "      <td>19</td>\n",
       "      <td>0</td>\n",
       "      <td>19</td>\n",
       "      <td>5</td>\n",
       "      <td>1</td>\n",
       "      <td>18</td>\n",
       "      <td>1</td>\n",
       "      <td>19</td>\n",
       "      <td>0</td>\n",
       "    </tr>\n",
       "    <tr>\n",
       "      <th>Europe</th>\n",
       "      <td>8</td>\n",
       "      <td>8</td>\n",
       "      <td>8</td>\n",
       "      <td>0</td>\n",
       "      <td>8</td>\n",
       "      <td>2</td>\n",
       "      <td>0</td>\n",
       "      <td>8</td>\n",
       "      <td>0</td>\n",
       "      <td>8</td>\n",
       "      <td>4</td>\n",
       "    </tr>\n",
       "    <tr>\n",
       "      <th>Horn of Africa</th>\n",
       "      <td>1</td>\n",
       "      <td>1</td>\n",
       "      <td>1</td>\n",
       "      <td>1</td>\n",
       "      <td>1</td>\n",
       "      <td>1</td>\n",
       "      <td>1</td>\n",
       "      <td>1</td>\n",
       "      <td>0</td>\n",
       "      <td>1</td>\n",
       "      <td>1</td>\n",
       "    </tr>\n",
       "    <tr>\n",
       "      <th>Mediterranean</th>\n",
       "      <td>45</td>\n",
       "      <td>45</td>\n",
       "      <td>38</td>\n",
       "      <td>13</td>\n",
       "      <td>45</td>\n",
       "      <td>20</td>\n",
       "      <td>11</td>\n",
       "      <td>17</td>\n",
       "      <td>11</td>\n",
       "      <td>45</td>\n",
       "      <td>45</td>\n",
       "    </tr>\n",
       "    <tr>\n",
       "      <th>Middle East</th>\n",
       "      <td>3</td>\n",
       "      <td>3</td>\n",
       "      <td>3</td>\n",
       "      <td>0</td>\n",
       "      <td>3</td>\n",
       "      <td>0</td>\n",
       "      <td>1</td>\n",
       "      <td>2</td>\n",
       "      <td>0</td>\n",
       "      <td>3</td>\n",
       "      <td>0</td>\n",
       "    </tr>\n",
       "    <tr>\n",
       "      <th>North Africa</th>\n",
       "      <td>5</td>\n",
       "      <td>5</td>\n",
       "      <td>4</td>\n",
       "      <td>1</td>\n",
       "      <td>5</td>\n",
       "      <td>2</td>\n",
       "      <td>2</td>\n",
       "      <td>2</td>\n",
       "      <td>0</td>\n",
       "      <td>5</td>\n",
       "      <td>1</td>\n",
       "    </tr>\n",
       "    <tr>\n",
       "      <th>South America</th>\n",
       "      <td>4</td>\n",
       "      <td>4</td>\n",
       "      <td>4</td>\n",
       "      <td>1</td>\n",
       "      <td>4</td>\n",
       "      <td>1</td>\n",
       "      <td>0</td>\n",
       "      <td>2</td>\n",
       "      <td>3</td>\n",
       "      <td>4</td>\n",
       "      <td>0</td>\n",
       "    </tr>\n",
       "    <tr>\n",
       "      <th>Southeast Asia</th>\n",
       "      <td>1</td>\n",
       "      <td>1</td>\n",
       "      <td>1</td>\n",
       "      <td>1</td>\n",
       "      <td>1</td>\n",
       "      <td>0</td>\n",
       "      <td>1</td>\n",
       "      <td>0</td>\n",
       "      <td>0</td>\n",
       "      <td>1</td>\n",
       "      <td>0</td>\n",
       "    </tr>\n",
       "    <tr>\n",
       "      <th>US-Mexico Border</th>\n",
       "      <td>55</td>\n",
       "      <td>55</td>\n",
       "      <td>52</td>\n",
       "      <td>3</td>\n",
       "      <td>55</td>\n",
       "      <td>2</td>\n",
       "      <td>4</td>\n",
       "      <td>24</td>\n",
       "      <td>1</td>\n",
       "      <td>55</td>\n",
       "      <td>2</td>\n",
       "    </tr>\n",
       "  </tbody>\n",
       "</table>\n",
       "</div>"
      ],
      "text/plain": [
       "                    Reported Year  Reported Month  Number Dead  \\\n",
       "Region of Incident                                               \n",
       "Caribbean                       2               2            2   \n",
       "Central America                19              19           19   \n",
       "Europe                          8               8            8   \n",
       "Horn of Africa                  1               1            1   \n",
       "Mediterranean                  45              45           38   \n",
       "Middle East                     3               3            3   \n",
       "North Africa                    5               5            4   \n",
       "South America                   4               4            4   \n",
       "Southeast Asia                  1               1            1   \n",
       "US-Mexico Border               55              55           52   \n",
       "\n",
       "                    Minimum Estimated Number of Missing  \\\n",
       "Region of Incident                                        \n",
       "Caribbean                                             0   \n",
       "Central America                                       0   \n",
       "Europe                                                0   \n",
       "Horn of Africa                                        1   \n",
       "Mediterranean                                        13   \n",
       "Middle East                                           0   \n",
       "North Africa                                          1   \n",
       "South America                                         1   \n",
       "Southeast Asia                                        1   \n",
       "US-Mexico Border                                      3   \n",
       "\n",
       "                    Total Dead and Missing  Number of Survivors  \\\n",
       "Region of Incident                                                \n",
       "Caribbean                                2                    2   \n",
       "Central America                         19                    5   \n",
       "Europe                                   8                    2   \n",
       "Horn of Africa                           1                    1   \n",
       "Mediterranean                           45                   20   \n",
       "Middle East                              3                    0   \n",
       "North Africa                             5                    2   \n",
       "South America                            4                    1   \n",
       "Southeast Asia                           1                    0   \n",
       "US-Mexico Border                        55                    2   \n",
       "\n",
       "                    Number of Females  Number of Males  Number of Children  \\\n",
       "Region of Incident                                                           \n",
       "Caribbean                           0                1                   0   \n",
       "Central America                     1               18                   1   \n",
       "Europe                              0                8                   0   \n",
       "Horn of Africa                      1                1                   0   \n",
       "Mediterranean                      11               17                  11   \n",
       "Middle East                         1                2                   0   \n",
       "North Africa                        2                2                   0   \n",
       "South America                       0                2                   3   \n",
       "Southeast Asia                      1                0                   0   \n",
       "US-Mexico Border                    4               24                   1   \n",
       "\n",
       "                    Cause of Death  Migration Route  \n",
       "Region of Incident                                   \n",
       "Caribbean                        2                0  \n",
       "Central America                 19                0  \n",
       "Europe                           8                4  \n",
       "Horn of Africa                   1                1  \n",
       "Mediterranean                   45               45  \n",
       "Middle East                      3                0  \n",
       "North Africa                     5                1  \n",
       "South America                    4                0  \n",
       "Southeast Asia                   1                0  \n",
       "US-Mexico Border                55                2  "
      ]
     },
     "execution_count": 13,
     "metadata": {},
     "output_type": "execute_result"
    }
   ],
   "source": [
    "Regions_of_incident = migrants.groupby(\"Region of Incident\").count()\n",
    "Regions_of_incident "
   ]
  },
  {
   "cell_type": "code",
   "execution_count": 14,
   "metadata": {},
   "outputs": [
    {
     "data": {
      "text/html": [
       "<div>\n",
       "<style scoped>\n",
       "    .dataframe tbody tr th:only-of-type {\n",
       "        vertical-align: middle;\n",
       "    }\n",
       "\n",
       "    .dataframe tbody tr th {\n",
       "        vertical-align: top;\n",
       "    }\n",
       "\n",
       "    .dataframe thead th {\n",
       "        text-align: right;\n",
       "    }\n",
       "</style>\n",
       "<table border=\"1\" class=\"dataframe\">\n",
       "  <thead>\n",
       "    <tr style=\"text-align: right;\">\n",
       "      <th></th>\n",
       "      <th>Total Dead and Missing</th>\n",
       "    </tr>\n",
       "    <tr>\n",
       "      <th>Cause of Death</th>\n",
       "      <th></th>\n",
       "    </tr>\n",
       "  </thead>\n",
       "  <tbody>\n",
       "    <tr>\n",
       "      <th>Drowning</th>\n",
       "      <td>56</td>\n",
       "    </tr>\n",
       "    <tr>\n",
       "      <th>Hit by truck</th>\n",
       "      <td>1</td>\n",
       "    </tr>\n",
       "    <tr>\n",
       "      <th>Presumed drowning</th>\n",
       "      <td>251</td>\n",
       "    </tr>\n",
       "    <tr>\n",
       "      <th>Unknown</th>\n",
       "      <td>3</td>\n",
       "    </tr>\n",
       "  </tbody>\n",
       "</table>\n",
       "</div>"
      ],
      "text/plain": [
       "                   Total Dead and Missing\n",
       "Cause of Death                           \n",
       "Drowning                               56\n",
       "Hit by truck                            1\n",
       "Presumed drowning                     251\n",
       "Unknown                                 3"
      ]
     },
     "execution_count": 14,
     "metadata": {},
     "output_type": "execute_result"
    }
   ],
   "source": [
    "Mediterranean = migrants[migrants[\"Region of Incident\"] == \"Mediterranean\"]\n",
    "\n",
    "#Groupby the leading causes of death for migrants in the Mediterranean\n",
    "Mediterranean_leading_causes = Mediterranean.groupby(\"Cause of Death\").sum()\n",
    "Mediterranean_leading_causes_migrant_loss = pd.DataFrame(Mediterranean_leading_causes, columns = [\"Total Dead and Missing\"])\n",
    "Mediterranean_leading_causes_migrant_loss\n"
   ]
  },
  {
   "cell_type": "code",
   "execution_count": 15,
   "metadata": {},
   "outputs": [
    {
     "data": {
      "image/png": "[encoded data removed]",
      "text/plain": [
       "<Figure size 432x288 with 1 Axes>"
      ]
     },
     "metadata": {
      "needs_background": "light"
     },
     "output_type": "display_data"
    },
    {
     "data": {
      "text/plain": [
       "<Figure size 432x288 with 0 Axes>"
      ]
     },
     "metadata": {},
     "output_type": "display_data"
    }
   ],
   "source": [
    "Mediterranean_sum = Mediterranean_leading_causes_migrant_loss[Mediterranean_leading_causes_migrant_loss[\"Total Dead and Missing\"] > 1]\n",
    "\n",
    "#Bar Chart\n",
    "M_Chart = Mediterranean_sum.plot(kind=\"bar\", title=\"Leading Causes of Migrant Loss in the Mediterranean Region\")\n",
    "\n",
    "M_Chart.set_xlabel(\"Causes of Migrant Loss\")\n",
    "M_Chart.set_ylabel(\"Number of Migrants Lost\")\n",
    "\n",
    "plt.show()\n",
    "plt.tight_layout()\n",
    "\n",
    "# Save graph\n",
    "plt.savefig(\"Visualizations/migrant_loss_mediterranean.png\", dpi=180, bbox_inches=\"tight\")\n"
   ]
  },
  {
   "cell_type": "code",
   "execution_count": 17,
   "metadata": {},
   "outputs": [
    {
     "data": {
      "text/html": [
       "<div>\n",
       "<style scoped>\n",
       "    .dataframe tbody tr th:only-of-type {\n",
       "        vertical-align: middle;\n",
       "    }\n",
       "\n",
       "    .dataframe tbody tr th {\n",
       "        vertical-align: top;\n",
       "    }\n",
       "\n",
       "    .dataframe thead th {\n",
       "        text-align: right;\n",
       "    }\n",
       "</style>\n",
       "<table border=\"1\" class=\"dataframe\">\n",
       "  <thead>\n",
       "    <tr style=\"text-align: right;\">\n",
       "      <th></th>\n",
       "      <th>Total Dead and Missing</th>\n",
       "    </tr>\n",
       "    <tr>\n",
       "      <th>Cause of Death</th>\n",
       "      <th></th>\n",
       "    </tr>\n",
       "  </thead>\n",
       "  <tbody>\n",
       "    <tr>\n",
       "      <th>Dehydration</th>\n",
       "      <td>1</td>\n",
       "    </tr>\n",
       "    <tr>\n",
       "      <th>Drowning</th>\n",
       "      <td>4</td>\n",
       "    </tr>\n",
       "    <tr>\n",
       "      <th>Hit by vehicle</th>\n",
       "      <td>1</td>\n",
       "    </tr>\n",
       "    <tr>\n",
       "      <th>Murdered</th>\n",
       "      <td>1</td>\n",
       "    </tr>\n",
       "    <tr>\n",
       "      <th>Presumed drowning</th>\n",
       "      <td>15</td>\n",
       "    </tr>\n",
       "    <tr>\n",
       "      <th>Unknown</th>\n",
       "      <td>3</td>\n",
       "    </tr>\n",
       "    <tr>\n",
       "      <th>Unknown (skeletal remains)</th>\n",
       "      <td>32</td>\n",
       "    </tr>\n",
       "    <tr>\n",
       "      <th>Vehicle Accident</th>\n",
       "      <td>3</td>\n",
       "    </tr>\n",
       "  </tbody>\n",
       "</table>\n",
       "</div>"
      ],
      "text/plain": [
       "                            Total Dead and Missing\n",
       "Cause of Death                                    \n",
       "Dehydration                                      1\n",
       "Drowning                                         4\n",
       "Hit by vehicle                                   1\n",
       "Murdered                                         1\n",
       "Presumed drowning                               15\n",
       "Unknown                                          3\n",
       "Unknown (skeletal remains)                      32\n",
       "Vehicle Accident                                 3"
      ]
     },
     "execution_count": 17,
     "metadata": {},
     "output_type": "execute_result"
    }
   ],
   "source": [
    "US_Mexico = migrants[migrants[\"Region of Incident\"] == \"US-Mexico Border\"]\n",
    "\n",
    "#Groupby leading causes of death for migrants in the US-MExico border\n",
    "US_Mexico_leading_causes = US_Mexico.groupby(\"Cause of Death\").sum()\n",
    "US_Mexico_leading_causes_migrant_loss = pd.DataFrame(US_Mexico_leading_causes, columns = [\"Total Dead and Missing\"])\n",
    "US_Mexico_leading_causes_migrant_loss"
   ]
  },
  {
   "cell_type": "code",
   "execution_count": 18,
   "metadata": {},
   "outputs": [
    {
     "data": {
      "image/png": "[encoded data removed]",
      "text/plain": [
       "<Figure size 432x288 with 1 Axes>"
      ]
     },
     "metadata": {
      "needs_background": "light"
     },
     "output_type": "display_data"
    },
    {
     "data": {
      "text/plain": [
       "<Figure size 432x288 with 0 Axes>"
      ]
     },
     "metadata": {},
     "output_type": "display_data"
    }
   ],
   "source": [
    "US_Mexico_sum = US_Mexico_leading_causes_migrant_loss[US_Mexico_leading_causes_migrant_loss[\"Total Dead and Missing\"] > 1]\n",
    "\n",
    "#Bar Chart\n",
    "U_Chart = US_Mexico_sum.plot(kind=\"bar\", color = \"cyan\", title=\"Leading Causes of Migrant Loss in the US-Mexico Border Region\")\n",
    "\n",
    "U_Chart.set_xlabel(\"Causes of Migrant Loss\")\n",
    "U_Chart.set_ylabel(\"Number of Migrants Lost\")\n",
    "\n",
    "plt.show()\n",
    "plt.tight_layout()\n",
    "\n",
    "# Save graph\n",
    "plt.savefig(\"Visualizations/migrant_loss_border.png\", dpi=180, bbox_inches=\"tight\")"
   ]
  },
  {
   "cell_type": "markdown",
   "metadata": {},
   "source": [
    "### What do we know from this data on the leading causes of migrant loss en route to seeking asylum?"
   ]
  },
  {
   "cell_type": "markdown",
   "metadata": {},
   "source": [
    "After looking at the 2019 data on migrant loss specifically in the Mediterranean and the US-Mexico border, both of these regions share a couple of similarities in how the reported migrants have fallen short on their destination. In the Meditteranean, most of these migrant losses are attributed to drowning or presumed drowning. Its presumed that many have drowned when trying to cross the Mediterranean into Europe from places such as the Middle East and North Africa. Because these events are often isolated, it can be presumed that those migrants that were lost at sea have drowned before reaching European shores. \n",
    "\n",
    "The international border between the US and Mexico differs in that much of the causes of migrant loss are unknown, though skeletal remains have been found and recorded into this set. In terms of known causes of migrant loss, drowning or presumed drowning seems to be the leading cause. This can be explained by a natural river border between the two nations, as the Rio Grande cuts through the border. Crossings on this part of the border experience much of these occurences where drowning takes some of the migrants."
   ]
  }
 ],
 "metadata": {
  "kernelspec": {
   "display_name": "Python 3",
   "language": "python",
   "name": "python3"
  },
  "language_info": {
   "codemirror_mode": {
    "name": "ipython",
    "version": 3
   },
   "file_extension": ".py",
   "mimetype": "text/x-python",
   "name": "python",
   "nbconvert_exporter": "python",
   "pygments_lexer": "ipython3",
   "version": "3.7.1"
  }
 },
 "nbformat": 4,
 "nbformat_minor": 2
}
