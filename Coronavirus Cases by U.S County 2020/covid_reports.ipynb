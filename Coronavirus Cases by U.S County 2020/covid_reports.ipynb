{
 "cells": [
  {
   "cell_type": "code",
   "execution_count": 16,
   "metadata": {},
   "outputs": [],
   "source": [
    "import pandas as pd\n",
    "import numpy as np\n",
    "import matplotlib.pyplot as plt"
   ]
  },
  {
   "cell_type": "code",
   "execution_count": 17,
   "metadata": {},
   "outputs": [],
   "source": [
    "data = pd.read_csv(\"us-counties.csv\")"
   ]
  },
  {
   "cell_type": "code",
   "execution_count": 18,
   "metadata": {},
   "outputs": [
    {
     "data": {
      "text/html": [
       "<div>\n",
       "<style scoped>\n",
       "    .dataframe tbody tr th:only-of-type {\n",
       "        vertical-align: middle;\n",
       "    }\n",
       "\n",
       "    .dataframe tbody tr th {\n",
       "        vertical-align: top;\n",
       "    }\n",
       "\n",
       "    .dataframe thead th {\n",
       "        text-align: right;\n",
       "    }\n",
       "</style>\n",
       "<table border=\"1\" class=\"dataframe\">\n",
       "  <thead>\n",
       "    <tr style=\"text-align: right;\">\n",
       "      <th></th>\n",
       "      <th>date</th>\n",
       "      <th>county</th>\n",
       "      <th>state</th>\n",
       "      <th>fips</th>\n",
       "      <th>cases</th>\n",
       "      <th>deaths</th>\n",
       "    </tr>\n",
       "  </thead>\n",
       "  <tbody>\n",
       "    <tr>\n",
       "      <th>0</th>\n",
       "      <td>1/21/2020</td>\n",
       "      <td>Snohomish</td>\n",
       "      <td>Washington</td>\n",
       "      <td>53061.0</td>\n",
       "      <td>1</td>\n",
       "      <td>0</td>\n",
       "    </tr>\n",
       "    <tr>\n",
       "      <th>1</th>\n",
       "      <td>1/22/2020</td>\n",
       "      <td>Snohomish</td>\n",
       "      <td>Washington</td>\n",
       "      <td>53061.0</td>\n",
       "      <td>1</td>\n",
       "      <td>0</td>\n",
       "    </tr>\n",
       "    <tr>\n",
       "      <th>2</th>\n",
       "      <td>1/23/2020</td>\n",
       "      <td>Snohomish</td>\n",
       "      <td>Washington</td>\n",
       "      <td>53061.0</td>\n",
       "      <td>1</td>\n",
       "      <td>0</td>\n",
       "    </tr>\n",
       "    <tr>\n",
       "      <th>3</th>\n",
       "      <td>1/24/2020</td>\n",
       "      <td>Cook</td>\n",
       "      <td>Illinois</td>\n",
       "      <td>17031.0</td>\n",
       "      <td>1</td>\n",
       "      <td>0</td>\n",
       "    </tr>\n",
       "    <tr>\n",
       "      <th>4</th>\n",
       "      <td>1/24/2020</td>\n",
       "      <td>Snohomish</td>\n",
       "      <td>Washington</td>\n",
       "      <td>53061.0</td>\n",
       "      <td>1</td>\n",
       "      <td>0</td>\n",
       "    </tr>\n",
       "  </tbody>\n",
       "</table>\n",
       "</div>"
      ],
      "text/plain": [
       "        date     county       state     fips  cases  deaths\n",
       "0  1/21/2020  Snohomish  Washington  53061.0      1       0\n",
       "1  1/22/2020  Snohomish  Washington  53061.0      1       0\n",
       "2  1/23/2020  Snohomish  Washington  53061.0      1       0\n",
       "3  1/24/2020       Cook    Illinois  17031.0      1       0\n",
       "4  1/24/2020  Snohomish  Washington  53061.0      1       0"
      ]
     },
     "execution_count": 18,
     "metadata": {},
     "output_type": "execute_result"
    }
   ],
   "source": [
    "data = pd.DataFrame(data)\n",
    "data.head()"
   ]
  },
  {
   "cell_type": "code",
   "execution_count": 21,
   "metadata": {},
   "outputs": [
    {
     "name": "stdout",
     "output_type": "stream",
     "text": [
      "         date       county       state     fips  cases  deaths\n",
      "0  2020-01-21    Snohomish  Washington  53061.0      1       0\n",
      "1  2020-01-22    Snohomish  Washington  53061.0      1       0\n",
      "2  2020-01-23    Snohomish  Washington  53061.0      1       0\n",
      "3  2020-01-24         Cook    Illinois  17031.0      1       0\n",
      "4  2020-01-24    Snohomish  Washington  53061.0      1       0\n",
      "5  2020-01-25       Orange  California   6059.0      1       0\n",
      "6  2020-01-25         Cook    Illinois  17031.0      1       0\n",
      "7  2020-01-25    Snohomish  Washington  53061.0      1       0\n",
      "8  2020-01-26     Maricopa     Arizona   4013.0      1       0\n",
      "9  2020-01-26  Los Angeles  California   6037.0      1       0\n",
      "10 2020-01-26       Orange  California   6059.0      1       0\n",
      "11 2020-01-26         Cook    Illinois  17031.0      1       0\n",
      "12 2020-01-26    Snohomish  Washington  53061.0      1       0\n",
      "13 2020-01-27     Maricopa     Arizona   4013.0      1       0\n",
      "14 2020-01-27  Los Angeles  California   6037.0      1       0\n",
      "15 2020-01-27       Orange  California   6059.0      1       0\n",
      "16 2020-01-27         Cook    Illinois  17031.0      1       0\n",
      "17 2020-01-27    Snohomish  Washington  53061.0      1       0\n",
      "18 2020-01-28     Maricopa     Arizona   4013.0      1       0\n",
      "19 2020-01-28  Los Angeles  California   6037.0      1       0\n",
      "20 2020-01-28       Orange  California   6059.0      1       0\n",
      "21 2020-01-28         Cook    Illinois  17031.0      1       0\n",
      "22 2020-01-28    Snohomish  Washington  53061.0      1       0\n",
      "23 2020-01-29     Maricopa     Arizona   4013.0      1       0\n",
      "24 2020-01-29  Los Angeles  California   6037.0      1       0\n",
      "25 2020-01-29       Orange  California   6059.0      1       0\n",
      "26 2020-01-29         Cook    Illinois  17031.0      1       0\n",
      "27 2020-01-29    Snohomish  Washington  53061.0      1       0\n",
      "28 2020-01-30     Maricopa     Arizona   4013.0      1       0\n",
      "29 2020-01-30  Los Angeles  California   6037.0      1       0\n",
      "30 2020-01-30       Orange  California   6059.0      1       0\n",
      "31 2020-01-30         Cook    Illinois  17031.0      2       0\n",
      "32 2020-01-30    Snohomish  Washington  53061.0      1       0\n",
      "33 2020-01-31     Maricopa     Arizona   4013.0      1       0\n",
      "34 2020-01-31  Los Angeles  California   6037.0      1       0\n",
      "35 2020-01-31       Orange  California   6059.0      1       0\n",
      "36 2020-01-31  Santa Clara  California   6085.0      1       0\n",
      "37 2020-01-31         Cook    Illinois  17031.0      2       0\n",
      "38 2020-01-31    Snohomish  Washington  53061.0      1       0\n"
     ]
    }
   ],
   "source": [
    "#Start with January datasets\n",
    "data['date'] = pd.to_datetime(data['date'])\n",
    "\n",
    "start_date = '1/21/2020'\n",
    "end_date = '1/31/2020'\n",
    "\n",
    "january_cases = (data['date'] >= start_date) & (data['date'] <= end_date)\n",
    "januardata.loc[january_cases]\n",
    "#Group by States and then County\n",
    "\n",
    "#delete fips column"
   ]
  },
  {
   "cell_type": "code",
   "execution_count": null,
   "metadata": {},
   "outputs": [],
   "source": []
  }
 ],
 "metadata": {
  "kernelspec": {
   "display_name": "Python 3",
   "language": "python",
   "name": "python3"
  },
  "language_info": {
   "codemirror_mode": {
    "name": "ipython",
    "version": 3
   },
   "file_extension": ".py",
   "mimetype": "text/x-python",
   "name": "python",
   "nbconvert_exporter": "python",
   "pygments_lexer": "ipython3",
   "version": "3.7.1"
  }
 },
 "nbformat": 4,
 "nbformat_minor": 2
}
